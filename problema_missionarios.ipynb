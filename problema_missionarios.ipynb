{
  "nbformat": 4,
  "nbformat_minor": 0,
  "metadata": {
    "colab": {
      "name": "problema_missionarios.ipynb",
      "provenance": []
    },
    "kernelspec": {
      "name": "python3",
      "display_name": "Python 3"
    },
    "language_info": {
      "name": "python"
    }
  },
  "cells": [
    {
      "cell_type": "markdown",
      "source": [
        "O problema dos missionários e canibais é usualmente descrito como a seguir. Três missionários e três canibais encontram-se em um mesma margem de um rio, e possuem ao alcance um barco a remo que pode carregar uma ou duas pessoas. Encontre uma maneira de levar todos para a outra margem do rio sem nunca deixar um grupo de missionários com número de pessoas menor que aquele dos canibais."
      ],
      "metadata": {
        "id": "BIj9l5PK_k1n"
      }
    },
    {
      "cell_type": "code",
      "execution_count": 102,
      "metadata": {
        "id": "UDYd1g1H_erp"
      },
      "outputs": [],
      "source": [
        "from collections import deque\n",
        "\n",
        "#Estrutura para o estado\n",
        "class Estado:\n",
        "  def __init__(self, M, C, L):\n",
        "    self.M = M\n",
        "    self.C = C\n",
        "    self.L = L\n",
        "\n",
        "#Verifica de estado é igual ao objetivo\n",
        "def igual(estado, objetivo):\n",
        "  if estado.M == objetivo.M and estado.C == objetivo.C and estado.L == objetivo.L:\n",
        "    return True\n",
        "  return False\n",
        "\n",
        "#Gera os estados válidos\n",
        "def gerar_estados(estado_atual):\n",
        "  if estado_atual.L == 0:\n",
        "    estados_possiveis = [\n",
        "\t\t\t\t\t\t Estado(M=estado_atual.M+2, C=estado_atual.C+0, L=estado_atual.L+1),\n",
        "\t\t\t\t\t\t Estado(M=estado_atual.M+1, C=estado_atual.C+0, L=estado_atual.L+1),\n",
        "\t\t\t\t\t\t Estado(M=estado_atual.M+1, C=estado_atual.C+1, L=estado_atual.L+1),\n",
        "\t\t\t\t\t\t Estado(M=estado_atual.M-1, C=estado_atual.C-1, L=estado_atual.L+0),\n",
        "\t\t\t\t\t\t Estado(M=estado_atual.M-0, C=estado_atual.C-1, L=estado_atual.L+0),\n",
        "\t\t\t\t\t\t Estado(M=estado_atual.M-0, C=estado_atual.C-2, L=estado_atual.L+0),\n",
        "\t\t\t\t\t\t Estado(M=estado_atual.M-2, C=estado_atual.C-0, L=estado_atual.L+0),\n",
        "\t\t\t\t\t\t Estado(M=estado_atual.M-1, C=estado_atual.C-0, L=estado_atual.L+0),\n",
        "\t\t\t\t\t\t Estado(M=estado_atual.M-0, C=estado_atual.C+1, L=estado_atual.L+1),\n",
        "\t\t\t\t\t\t Estado(M=estado_atual.M-0, C=estado_atual.C+2, L=estado_atual.L+1)\n",
        "    ]\n",
        "  else:\n",
        "    estados_possiveis = [\n",
        "\t\t\t\t\t\t Estado(M=estado_atual.M+2, C=estado_atual.C+0, L=estado_atual.L+1),\n",
        "\t\t\t\t\t\t Estado(M=estado_atual.M+1, C=estado_atual.C+0, L=estado_atual.L+1),\n",
        "\t\t\t\t\t\t Estado(M=estado_atual.M+1, C=estado_atual.C+1, L=estado_atual.L+1),\n",
        "\t\t\t\t\t\t Estado(M=estado_atual.M-1, C=estado_atual.C-1, L=estado_atual.L+0),\n",
        "\t\t\t\t\t\t Estado(M=estado_atual.M-0, C=estado_atual.C-1, L=estado_atual.L+0),\n",
        "\t\t\t\t\t\t Estado(M=estado_atual.M-0, C=estado_atual.C-2, L=estado_atual.L+0),\n",
        "\t\t\t\t\t\t Estado(M=estado_atual.M-2, C=estado_atual.C-0, L=estado_atual.L+0),\n",
        "\t\t\t\t\t\t Estado(M=estado_atual.M-1, C=estado_atual.C-0, L=estado_atual.L+0),\n",
        "\t\t\t\t\t\t Estado(M=estado_atual.M-0, C=estado_atual.C+1, L=estado_atual.L+1),\n",
        "\t\t\t\t\t\t Estado(M=estado_atual.M-0, C=estado_atual.C+2, L=estado_atual.L+1)\n",
        "    ]\n",
        "  estados_validos = []\n",
        "  for v in estados_possiveis:\n",
        "    #Condição para verificar se o estado atende a todos requisitos para ser considerado como válido\n",
        "    if v.M > 3 or v.C > 3 or v.L > 1 or v.M < 0 or v.C < 0 or v.L < 0 or (0 < v.M < v.C) or (0 < (3-v.M) < (3-v.C)): continue\n",
        "    else: estados_validos.append(v)\n",
        "\n",
        "  return estados_validos\n",
        "\n",
        "#Busca em Largura\n",
        "def encontrar_caminho_BFS(estado_inicio, objetivo):\n",
        "  print(\"CAMINHO:\\n\")\n",
        "  fronteira = deque()\n",
        "\n",
        "  expandidos = set()\n",
        "\n",
        "  fronteira.append(estado_inicio)\n",
        "\n",
        "  obj_encontrado = None\n",
        "\n",
        "  while (len(fronteira)>0) and (obj_encontrado is None):\n",
        "    estado_atual = fronteira.popleft()\n",
        "\n",
        "    estados_possiveis = gerar_estados(estado_atual)\n",
        "\n",
        "    for v in estados_possiveis:\n",
        "      if (v not in expandidos) and (v not in fronteira):\n",
        "        if igual(v, objetivo):\n",
        "          obj_encontrado = v\n",
        "          break\n",
        "        fronteira.append(v)\n",
        "        print(\n",
        "          f\"===========================\\n\"\n",
        "          f\"Qtd. Missionarios: {v.M}.\\n\"\n",
        "          f\"Qtd. Canibais: {v.C}.\\n\"\n",
        "          f\"Margem do rio: {v.L}.\\n\"\n",
        "          f\"===========================\\n\"\n",
        "        )\n",
        "      expandidos.add(estado_atual)\n",
        "  return obj_encontrado\n"
      ]
    },
    {
      "cell_type": "code",
      "source": [
        "estado_inicio = Estado(3,3,0)\n",
        "objetivo = Estado(3,3,1)\n",
        "\n",
        "obj_encontrado = encontrar_caminho_DFS(estado_inicio, objetivo)\n",
        "\n",
        "\n",
        "print(\n",
        "      f\"\\nOBJETO ENCONTRADO:\\n\"\n",
        "      f\"Qtd. Missionarios: {obj_encontrado.M}.\\n\"\n",
        "      f\"Qtd. Canibais: {obj_encontrado.C}.\\n\"\n",
        "      f\"Margem do rio: {obj_encontrado.L}.\\n\"\n",
        "      f\"===========================\\n\"\n",
        "    )"
      ],
      "metadata": {
        "colab": {
          "base_uri": "https://localhost:8080/"
        },
        "id": "s2l-vdjIFKNM",
        "outputId": "1e655e0c-8498-4ec2-b513-333369551b17"
      },
      "execution_count": 103,
      "outputs": [
        {
          "output_type": "stream",
          "name": "stdout",
          "text": [
            "CAMINHO:\n",
            "\n",
            "===========================\n",
            "Qtd. Missionarios: 2.\n",
            "Qtd. Canibais: 2.\n",
            "Margem do rio: 0.\n",
            "===========================\n",
            "\n",
            "===========================\n",
            "Qtd. Missionarios: 3.\n",
            "Qtd. Canibais: 2.\n",
            "Margem do rio: 0.\n",
            "===========================\n",
            "\n",
            "===========================\n",
            "Qtd. Missionarios: 3.\n",
            "Qtd. Canibais: 1.\n",
            "Margem do rio: 0.\n",
            "===========================\n",
            "\n",
            "===========================\n",
            "Qtd. Missionarios: 3.\n",
            "Qtd. Canibais: 2.\n",
            "Margem do rio: 1.\n",
            "===========================\n",
            "\n",
            "\n",
            "OBJETO ENCONTRADO:\n",
            "Qtd. Missionarios: 3.\n",
            "Qtd. Canibais: 3.\n",
            "Margem do rio: 1.\n",
            "===========================\n",
            "\n"
          ]
        }
      ]
    }
  ]
}